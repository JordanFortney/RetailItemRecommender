{
 "cells": [
  {
   "cell_type": "markdown",
   "metadata": {},
   "source": [
    "# Market Basket Suggestions Based on Past Item Activity"
   ]
  },
  {
   "cell_type": "markdown",
   "metadata": {},
   "source": [
    "This notebook will process the retail event data for apparel and use it in a function to suggest additional items to purchase. Those suggestions are based on the items commonly interaccted with in other user sessions. "
   ]
  },
  {
   "cell_type": "markdown",
   "metadata": {},
   "source": [
    "### Data Frames"
   ]
  },
  {
   "cell_type": "code",
   "execution_count": 1,
   "metadata": {},
   "outputs": [],
   "source": [
    "import pandas as pd"
   ]
  },
  {
   "cell_type": "markdown",
   "metadata": {},
   "source": [
    "Reading the October Apparel Data"
   ]
  },
  {
   "cell_type": "code",
   "execution_count": 2,
   "metadata": {},
   "outputs": [
    {
     "name": "stdout",
     "output_type": "stream",
     "text": [
      "(1542924, 10)\n"
     ]
    },
    {
     "data": {
      "text/html": [
       "<div>\n",
       "<style scoped>\n",
       "    .dataframe tbody tr th:only-of-type {\n",
       "        vertical-align: middle;\n",
       "    }\n",
       "\n",
       "    .dataframe tbody tr th {\n",
       "        vertical-align: top;\n",
       "    }\n",
       "\n",
       "    .dataframe thead th {\n",
       "        text-align: right;\n",
       "    }\n",
       "</style>\n",
       "<table border=\"1\" class=\"dataframe\">\n",
       "  <thead>\n",
       "    <tr style=\"text-align: right;\">\n",
       "      <th></th>\n",
       "      <th>Unnamed: 0</th>\n",
       "      <th>event_time</th>\n",
       "      <th>event_type</th>\n",
       "      <th>product_id</th>\n",
       "      <th>category_id</th>\n",
       "      <th>category_code</th>\n",
       "      <th>brand</th>\n",
       "      <th>price</th>\n",
       "      <th>user_id</th>\n",
       "      <th>user_session</th>\n",
       "    </tr>\n",
       "  </thead>\n",
       "  <tbody>\n",
       "    <tr>\n",
       "      <th>0</th>\n",
       "      <td>0</td>\n",
       "      <td>2019-10-01 00:00:10 UTC</td>\n",
       "      <td>view</td>\n",
       "      <td>28719074</td>\n",
       "      <td>2053013565480109009</td>\n",
       "      <td>apparel.shoes.keds</td>\n",
       "      <td>baden</td>\n",
       "      <td>102.71</td>\n",
       "      <td>520571932</td>\n",
       "      <td>ac1cd4e5-a3ce-4224-a2d7-ff660a105880</td>\n",
       "    </tr>\n",
       "    <tr>\n",
       "      <th>1</th>\n",
       "      <td>1</td>\n",
       "      <td>2019-10-01 00:00:26 UTC</td>\n",
       "      <td>view</td>\n",
       "      <td>28719071</td>\n",
       "      <td>2053013565480109009</td>\n",
       "      <td>apparel.shoes.keds</td>\n",
       "      <td>baden</td>\n",
       "      <td>102.71</td>\n",
       "      <td>520571932</td>\n",
       "      <td>ac1cd4e5-a3ce-4224-a2d7-ff660a105880</td>\n",
       "    </tr>\n",
       "    <tr>\n",
       "      <th>2</th>\n",
       "      <td>2</td>\n",
       "      <td>2019-10-01 00:00:28 UTC</td>\n",
       "      <td>view</td>\n",
       "      <td>28714755</td>\n",
       "      <td>2053013565228450757</td>\n",
       "      <td>apparel.shoes</td>\n",
       "      <td>respect</td>\n",
       "      <td>51.22</td>\n",
       "      <td>555447570</td>\n",
       "      <td>99877fbe-d5a8-475e-a662-66bc9d29b6f8</td>\n",
       "    </tr>\n",
       "    <tr>\n",
       "      <th>3</th>\n",
       "      <td>3</td>\n",
       "      <td>2019-10-01 00:00:31 UTC</td>\n",
       "      <td>view</td>\n",
       "      <td>28718079</td>\n",
       "      <td>2053013565362668491</td>\n",
       "      <td>apparel.shoes.keds</td>\n",
       "      <td>respect</td>\n",
       "      <td>66.67</td>\n",
       "      <td>545323115</td>\n",
       "      <td>75fb5d0c-e907-4293-9c87-2419c2a7709d</td>\n",
       "    </tr>\n",
       "    <tr>\n",
       "      <th>4</th>\n",
       "      <td>4</td>\n",
       "      <td>2019-10-01 00:00:33 UTC</td>\n",
       "      <td>view</td>\n",
       "      <td>28717908</td>\n",
       "      <td>2053013565782098913</td>\n",
       "      <td>apparel.shoes</td>\n",
       "      <td>burgerschuhe</td>\n",
       "      <td>102.45</td>\n",
       "      <td>513798668</td>\n",
       "      <td>2034798f-43f2-8bcb-b169-c5f04a7a5a4f</td>\n",
       "    </tr>\n",
       "  </tbody>\n",
       "</table>\n",
       "</div>"
      ],
      "text/plain": [
       "   Unnamed: 0               event_time event_type  product_id  \\\n",
       "0           0  2019-10-01 00:00:10 UTC       view    28719074   \n",
       "1           1  2019-10-01 00:00:26 UTC       view    28719071   \n",
       "2           2  2019-10-01 00:00:28 UTC       view    28714755   \n",
       "3           3  2019-10-01 00:00:31 UTC       view    28718079   \n",
       "4           4  2019-10-01 00:00:33 UTC       view    28717908   \n",
       "\n",
       "           category_id       category_code         brand   price    user_id  \\\n",
       "0  2053013565480109009  apparel.shoes.keds         baden  102.71  520571932   \n",
       "1  2053013565480109009  apparel.shoes.keds         baden  102.71  520571932   \n",
       "2  2053013565228450757       apparel.shoes       respect   51.22  555447570   \n",
       "3  2053013565362668491  apparel.shoes.keds       respect   66.67  545323115   \n",
       "4  2053013565782098913       apparel.shoes  burgerschuhe  102.45  513798668   \n",
       "\n",
       "                           user_session  \n",
       "0  ac1cd4e5-a3ce-4224-a2d7-ff660a105880  \n",
       "1  ac1cd4e5-a3ce-4224-a2d7-ff660a105880  \n",
       "2  99877fbe-d5a8-475e-a662-66bc9d29b6f8  \n",
       "3  75fb5d0c-e907-4293-9c87-2419c2a7709d  \n",
       "4  2034798f-43f2-8bcb-b169-c5f04a7a5a4f  "
      ]
     },
     "execution_count": 2,
     "metadata": {},
     "output_type": "execute_result"
    }
   ],
   "source": [
    "octApparelData = pd.read_csv('data/2019-Oct-apparel.csv')\n",
    "print(octApparelData.shape)\n",
    "octApparelData.head()"
   ]
  },
  {
   "cell_type": "markdown",
   "metadata": {},
   "source": [
    "Reading the November Apparel Data"
   ]
  },
  {
   "cell_type": "code",
   "execution_count": 3,
   "metadata": {},
   "outputs": [
    {
     "name": "stdout",
     "output_type": "stream",
     "text": [
      "(3011101, 10)\n"
     ]
    },
    {
     "data": {
      "text/html": [
       "<div>\n",
       "<style scoped>\n",
       "    .dataframe tbody tr th:only-of-type {\n",
       "        vertical-align: middle;\n",
       "    }\n",
       "\n",
       "    .dataframe tbody tr th {\n",
       "        vertical-align: top;\n",
       "    }\n",
       "\n",
       "    .dataframe thead th {\n",
       "        text-align: right;\n",
       "    }\n",
       "</style>\n",
       "<table border=\"1\" class=\"dataframe\">\n",
       "  <thead>\n",
       "    <tr style=\"text-align: right;\">\n",
       "      <th></th>\n",
       "      <th>Unnamed: 0</th>\n",
       "      <th>event_time</th>\n",
       "      <th>event_type</th>\n",
       "      <th>product_id</th>\n",
       "      <th>category_id</th>\n",
       "      <th>category_code</th>\n",
       "      <th>brand</th>\n",
       "      <th>price</th>\n",
       "      <th>user_id</th>\n",
       "      <th>user_session</th>\n",
       "    </tr>\n",
       "  </thead>\n",
       "  <tbody>\n",
       "    <tr>\n",
       "      <th>0</th>\n",
       "      <td>0</td>\n",
       "      <td>2019-11-01 00:00:17 UTC</td>\n",
       "      <td>view</td>\n",
       "      <td>43200121</td>\n",
       "      <td>2146660887346282824</td>\n",
       "      <td>apparel.tshirt</td>\n",
       "      <td>goodloot</td>\n",
       "      <td>8.73</td>\n",
       "      <td>566175330</td>\n",
       "      <td>680fb144-6940-4931-85e6-16dda8d4e2d5</td>\n",
       "    </tr>\n",
       "    <tr>\n",
       "      <th>1</th>\n",
       "      <td>1</td>\n",
       "      <td>2019-11-01 00:00:18 UTC</td>\n",
       "      <td>view</td>\n",
       "      <td>44300043</td>\n",
       "      <td>2100825583029060150</td>\n",
       "      <td>apparel.jeans</td>\n",
       "      <td>NaN</td>\n",
       "      <td>40.16</td>\n",
       "      <td>545220871</td>\n",
       "      <td>f278cca0-e0f6-49a3-819a-d961998282d5</td>\n",
       "    </tr>\n",
       "    <tr>\n",
       "      <th>2</th>\n",
       "      <td>2</td>\n",
       "      <td>2019-11-01 00:00:35 UTC</td>\n",
       "      <td>view</td>\n",
       "      <td>44300009</td>\n",
       "      <td>2100825583029060150</td>\n",
       "      <td>apparel.jeans</td>\n",
       "      <td>NaN</td>\n",
       "      <td>50.45</td>\n",
       "      <td>545220871</td>\n",
       "      <td>f278cca0-e0f6-49a3-819a-d961998282d5</td>\n",
       "    </tr>\n",
       "    <tr>\n",
       "      <th>3</th>\n",
       "      <td>3</td>\n",
       "      <td>2019-11-01 00:00:44 UTC</td>\n",
       "      <td>view</td>\n",
       "      <td>44300026</td>\n",
       "      <td>2100825583029060150</td>\n",
       "      <td>apparel.jeans</td>\n",
       "      <td>NaN</td>\n",
       "      <td>46.08</td>\n",
       "      <td>545220871</td>\n",
       "      <td>f278cca0-e0f6-49a3-819a-d961998282d5</td>\n",
       "    </tr>\n",
       "    <tr>\n",
       "      <th>4</th>\n",
       "      <td>4</td>\n",
       "      <td>2019-11-01 00:01:12 UTC</td>\n",
       "      <td>view</td>\n",
       "      <td>45601414</td>\n",
       "      <td>2116907524572577889</td>\n",
       "      <td>apparel.shoes</td>\n",
       "      <td>pablosky</td>\n",
       "      <td>65.38</td>\n",
       "      <td>526996709</td>\n",
       "      <td>bd8f1103-1001-4b69-9106-da32f2c62653</td>\n",
       "    </tr>\n",
       "  </tbody>\n",
       "</table>\n",
       "</div>"
      ],
      "text/plain": [
       "   Unnamed: 0               event_time event_type  product_id  \\\n",
       "0           0  2019-11-01 00:00:17 UTC       view    43200121   \n",
       "1           1  2019-11-01 00:00:18 UTC       view    44300043   \n",
       "2           2  2019-11-01 00:00:35 UTC       view    44300009   \n",
       "3           3  2019-11-01 00:00:44 UTC       view    44300026   \n",
       "4           4  2019-11-01 00:01:12 UTC       view    45601414   \n",
       "\n",
       "           category_id   category_code     brand  price    user_id  \\\n",
       "0  2146660887346282824  apparel.tshirt  goodloot   8.73  566175330   \n",
       "1  2100825583029060150   apparel.jeans       NaN  40.16  545220871   \n",
       "2  2100825583029060150   apparel.jeans       NaN  50.45  545220871   \n",
       "3  2100825583029060150   apparel.jeans       NaN  46.08  545220871   \n",
       "4  2116907524572577889   apparel.shoes  pablosky  65.38  526996709   \n",
       "\n",
       "                           user_session  \n",
       "0  680fb144-6940-4931-85e6-16dda8d4e2d5  \n",
       "1  f278cca0-e0f6-49a3-819a-d961998282d5  \n",
       "2  f278cca0-e0f6-49a3-819a-d961998282d5  \n",
       "3  f278cca0-e0f6-49a3-819a-d961998282d5  \n",
       "4  bd8f1103-1001-4b69-9106-da32f2c62653  "
      ]
     },
     "execution_count": 3,
     "metadata": {},
     "output_type": "execute_result"
    }
   ],
   "source": [
    "novApparelData = pd.read_csv('data/2019-Nov-apparel.csv')\n",
    "print(novApparelData.shape)\n",
    "novApparelData.head()"
   ]
  },
  {
   "cell_type": "markdown",
   "metadata": {},
   "source": [
    "Concatination of the two months into a single data frame,"
   ]
  },
  {
   "cell_type": "code",
   "execution_count": 4,
   "metadata": {},
   "outputs": [],
   "source": [
    "fullApparelDF = pd.concat([octApparelData, novApparelData], ignore_index=True)"
   ]
  },
  {
   "cell_type": "code",
   "execution_count": 5,
   "metadata": {},
   "outputs": [
    {
     "data": {
      "text/plain": [
       "(4554025, 10)"
      ]
     },
     "execution_count": 5,
     "metadata": {},
     "output_type": "execute_result"
    }
   ],
   "source": [
    "fullApparelDF.shape"
   ]
  },
  {
   "cell_type": "markdown",
   "metadata": {},
   "source": [
    "The size is far too large for personal computers to efficiently run so we will take a very small sample of the data to wrok with. In full implimentation this data set and analysis would be run on a server environment, likely using a cluster of computers."
   ]
  },
  {
   "cell_type": "code",
   "execution_count": 6,
   "metadata": {},
   "outputs": [
    {
     "data": {
      "text/html": [
       "<div>\n",
       "<style scoped>\n",
       "    .dataframe tbody tr th:only-of-type {\n",
       "        vertical-align: middle;\n",
       "    }\n",
       "\n",
       "    .dataframe tbody tr th {\n",
       "        vertical-align: top;\n",
       "    }\n",
       "\n",
       "    .dataframe thead th {\n",
       "        text-align: right;\n",
       "    }\n",
       "</style>\n",
       "<table border=\"1\" class=\"dataframe\">\n",
       "  <thead>\n",
       "    <tr style=\"text-align: right;\">\n",
       "      <th></th>\n",
       "      <th>Unnamed: 0</th>\n",
       "      <th>event_time</th>\n",
       "      <th>event_type</th>\n",
       "      <th>product_id</th>\n",
       "      <th>category_id</th>\n",
       "      <th>category_code</th>\n",
       "      <th>brand</th>\n",
       "      <th>price</th>\n",
       "      <th>user_id</th>\n",
       "      <th>user_session</th>\n",
       "    </tr>\n",
       "  </thead>\n",
       "  <tbody>\n",
       "    <tr>\n",
       "      <th>3905179</th>\n",
       "      <td>2362255</td>\n",
       "      <td>2019-11-21 09:52:52 UTC</td>\n",
       "      <td>view</td>\n",
       "      <td>28718096</td>\n",
       "      <td>2053013565069067197</td>\n",
       "      <td>apparel.shoes.keds</td>\n",
       "      <td>respect</td>\n",
       "      <td>44.79</td>\n",
       "      <td>525647713</td>\n",
       "      <td>eace5cc4-364c-4042-88b8-f85bc5a39d86</td>\n",
       "    </tr>\n",
       "    <tr>\n",
       "      <th>1461501</th>\n",
       "      <td>1461501</td>\n",
       "      <td>2019-10-30 03:10:38 UTC</td>\n",
       "      <td>view</td>\n",
       "      <td>28720599</td>\n",
       "      <td>2053013565639492569</td>\n",
       "      <td>apparel.shoes</td>\n",
       "      <td>NaN</td>\n",
       "      <td>86.23</td>\n",
       "      <td>518925748</td>\n",
       "      <td>54682b8d-06e9-4d78-b429-524511471552</td>\n",
       "    </tr>\n",
       "    <tr>\n",
       "      <th>2133634</th>\n",
       "      <td>590710</td>\n",
       "      <td>2019-11-08 12:37:48 UTC</td>\n",
       "      <td>view</td>\n",
       "      <td>54900006</td>\n",
       "      <td>2146660887203676486</td>\n",
       "      <td>apparel.costume</td>\n",
       "      <td>NaN</td>\n",
       "      <td>51.48</td>\n",
       "      <td>512640780</td>\n",
       "      <td>540b6089-5c57-459e-a787-dfe4c43a923d</td>\n",
       "    </tr>\n",
       "    <tr>\n",
       "      <th>2303235</th>\n",
       "      <td>760311</td>\n",
       "      <td>2019-11-10 09:16:22 UTC</td>\n",
       "      <td>view</td>\n",
       "      <td>28719465</td>\n",
       "      <td>2053013565639492569</td>\n",
       "      <td>apparel.shoes</td>\n",
       "      <td>baden</td>\n",
       "      <td>52.00</td>\n",
       "      <td>515444497</td>\n",
       "      <td>fcdd2dfe-a781-40df-9b67-f2b5f49b42b5</td>\n",
       "    </tr>\n",
       "    <tr>\n",
       "      <th>4061123</th>\n",
       "      <td>2518199</td>\n",
       "      <td>2019-11-23 14:47:05 UTC</td>\n",
       "      <td>view</td>\n",
       "      <td>54900011</td>\n",
       "      <td>2146660887203676486</td>\n",
       "      <td>apparel.costume</td>\n",
       "      <td>NaN</td>\n",
       "      <td>64.35</td>\n",
       "      <td>564303461</td>\n",
       "      <td>20581bd4-c331-46a8-b50b-d36b92d1b234</td>\n",
       "    </tr>\n",
       "  </tbody>\n",
       "</table>\n",
       "</div>"
      ],
      "text/plain": [
       "         Unnamed: 0               event_time event_type  product_id  \\\n",
       "3905179     2362255  2019-11-21 09:52:52 UTC       view    28718096   \n",
       "1461501     1461501  2019-10-30 03:10:38 UTC       view    28720599   \n",
       "2133634      590710  2019-11-08 12:37:48 UTC       view    54900006   \n",
       "2303235      760311  2019-11-10 09:16:22 UTC       view    28719465   \n",
       "4061123     2518199  2019-11-23 14:47:05 UTC       view    54900011   \n",
       "\n",
       "                 category_id       category_code    brand  price    user_id  \\\n",
       "3905179  2053013565069067197  apparel.shoes.keds  respect  44.79  525647713   \n",
       "1461501  2053013565639492569       apparel.shoes      NaN  86.23  518925748   \n",
       "2133634  2146660887203676486     apparel.costume      NaN  51.48  512640780   \n",
       "2303235  2053013565639492569       apparel.shoes    baden  52.00  515444497   \n",
       "4061123  2146660887203676486     apparel.costume      NaN  64.35  564303461   \n",
       "\n",
       "                                 user_session  \n",
       "3905179  eace5cc4-364c-4042-88b8-f85bc5a39d86  \n",
       "1461501  54682b8d-06e9-4d78-b429-524511471552  \n",
       "2133634  540b6089-5c57-459e-a787-dfe4c43a923d  \n",
       "2303235  fcdd2dfe-a781-40df-9b67-f2b5f49b42b5  \n",
       "4061123  20581bd4-c331-46a8-b50b-d36b92d1b234  "
      ]
     },
     "execution_count": 6,
     "metadata": {},
     "output_type": "execute_result"
    }
   ],
   "source": [
    "sampleApparelDF = fullApparelDF.sample(frac=0.008, replace=True, random_state = 12)\n",
    "sampleApparelDF.head()"
   ]
  },
  {
   "cell_type": "code",
   "execution_count": 7,
   "metadata": {},
   "outputs": [
    {
     "data": {
      "text/plain": [
       "(36432, 10)"
      ]
     },
     "execution_count": 7,
     "metadata": {},
     "output_type": "execute_result"
    }
   ],
   "source": [
    "sampleApparelDF.shape"
   ]
  },
  {
   "cell_type": "markdown",
   "metadata": {},
   "source": [
    "### User Session Analysis"
   ]
  },
  {
   "cell_type": "markdown",
   "metadata": {},
   "source": [
    "The data needs to be reformatted to show all the items interacted with in each user session. This will group the commonly used items together. "
   ]
  },
  {
   "cell_type": "code",
   "execution_count": 8,
   "metadata": {},
   "outputs": [],
   "source": [
    "apparelBasket = sampleApparelDF.groupby('user_session')['product_id'].apply(list)"
   ]
  },
  {
   "cell_type": "code",
   "execution_count": 9,
   "metadata": {},
   "outputs": [
    {
     "data": {
      "text/plain": [
       "user_session\n",
       "0008e55a-2eee-4d83-a125-a95e75720a1a              [28717160]\n",
       "00096c1b-6b6b-4822-b8a2-26571d64bd8c              [35200189]\n",
       "000bedbb-ed86-4a87-8832-b9dc808bef6c              [28718936]\n",
       "001184d3-70c3-46a4-94f5-f8af302220a7    [48200449, 48200446]\n",
       "0013c638-0d24-49bd-9ea7-6cce6813ae14              [54900012]\n",
       "                                                ...         \n",
       "fff11c0a-5beb-457d-b638-849d18688bb0              [44300067]\n",
       "fff17fc9-f54c-48f0-85e5-4b5e89329a17              [28721779]\n",
       "fffbca59-8eaf-41cd-ac40-3b2ecb64ed90              [28719480]\n",
       "fffd4d6a-4175-48f6-abde-298d0834ae39              [28718244]\n",
       "fffd5189-bf07-4fe3-a6e3-f6596f9e2185              [28718601]\n",
       "Name: product_id, Length: 34461, dtype: object"
      ]
     },
     "execution_count": 9,
     "metadata": {},
     "output_type": "execute_result"
    }
   ],
   "source": [
    "apparelBasket"
   ]
  },
  {
   "cell_type": "code",
   "execution_count": 10,
   "metadata": {},
   "outputs": [
    {
     "data": {
      "text/plain": [
       "array([list([28717160]), list([35200189]), list([28718936]), ...,\n",
       "       list([28719480]), list([28718244]), list([28718601])], dtype=object)"
      ]
     },
     "execution_count": 10,
     "metadata": {},
     "output_type": "execute_result"
    }
   ],
   "source": [
    "apparelBasket = apparelBasket.values\n",
    "apparelBasket"
   ]
  },
  {
   "cell_type": "markdown",
   "metadata": {},
   "source": [
    "Now that the data is in the correct orientation and in a format we can fit it to an encoder. This will transform the data to show each user session as a row and each product id as a column. The data is now binary showing a 0 if the product was interactied with in the session and a 1 if it was."
   ]
  },
  {
   "cell_type": "code",
   "execution_count": 11,
   "metadata": {},
   "outputs": [],
   "source": [
    "from mlxtend.preprocessing import TransactionEncoder"
   ]
  },
  {
   "cell_type": "code",
   "execution_count": 12,
   "metadata": {},
   "outputs": [
    {
     "name": "stdout",
     "output_type": "stream",
     "text": [
      "(34461, 7572)\n"
     ]
    }
   ],
   "source": [
    "# Instantiate\n",
    "te = TransactionEncoder()\n",
    "\n",
    "# Fit & Transform - sparse\n",
    "apparelMatrix = te.fit_transform(apparelBasket, sparse=True)\n",
    "\n",
    "# Put in a dataframe\n",
    "apparelDF = pd.DataFrame.sparse.from_spmatrix(apparelMatrix, columns=te.columns_)\n",
    "print(apparelDF.shape)"
   ]
  },
  {
   "cell_type": "code",
   "execution_count": 13,
   "metadata": {},
   "outputs": [
    {
     "data": {
      "text/html": [
       "<div>\n",
       "<style scoped>\n",
       "    .dataframe tbody tr th:only-of-type {\n",
       "        vertical-align: middle;\n",
       "    }\n",
       "\n",
       "    .dataframe tbody tr th {\n",
       "        vertical-align: top;\n",
       "    }\n",
       "\n",
       "    .dataframe thead th {\n",
       "        text-align: right;\n",
       "    }\n",
       "</style>\n",
       "<table border=\"1\" class=\"dataframe\">\n",
       "  <thead>\n",
       "    <tr style=\"text-align: right;\">\n",
       "      <th></th>\n",
       "      <th>8400068</th>\n",
       "      <th>8400069</th>\n",
       "      <th>8400070</th>\n",
       "      <th>8400071</th>\n",
       "      <th>8400072</th>\n",
       "      <th>8400085</th>\n",
       "      <th>8400090</th>\n",
       "      <th>8400094</th>\n",
       "      <th>8400178</th>\n",
       "      <th>8400187</th>\n",
       "      <th>...</th>\n",
       "      <th>100025442</th>\n",
       "      <th>100025466</th>\n",
       "      <th>100025474</th>\n",
       "      <th>100025669</th>\n",
       "      <th>100026368</th>\n",
       "      <th>100026512</th>\n",
       "      <th>100027313</th>\n",
       "      <th>100027375</th>\n",
       "      <th>100027627</th>\n",
       "      <th>100028280</th>\n",
       "    </tr>\n",
       "  </thead>\n",
       "  <tbody>\n",
       "    <tr>\n",
       "      <th>0</th>\n",
       "      <td>0</td>\n",
       "      <td>0</td>\n",
       "      <td>0</td>\n",
       "      <td>0</td>\n",
       "      <td>0</td>\n",
       "      <td>0</td>\n",
       "      <td>0</td>\n",
       "      <td>0</td>\n",
       "      <td>0</td>\n",
       "      <td>0</td>\n",
       "      <td>...</td>\n",
       "      <td>0</td>\n",
       "      <td>0</td>\n",
       "      <td>0</td>\n",
       "      <td>0</td>\n",
       "      <td>0</td>\n",
       "      <td>0</td>\n",
       "      <td>0</td>\n",
       "      <td>0</td>\n",
       "      <td>0</td>\n",
       "      <td>0</td>\n",
       "    </tr>\n",
       "    <tr>\n",
       "      <th>1</th>\n",
       "      <td>0</td>\n",
       "      <td>0</td>\n",
       "      <td>0</td>\n",
       "      <td>0</td>\n",
       "      <td>0</td>\n",
       "      <td>0</td>\n",
       "      <td>0</td>\n",
       "      <td>0</td>\n",
       "      <td>0</td>\n",
       "      <td>0</td>\n",
       "      <td>...</td>\n",
       "      <td>0</td>\n",
       "      <td>0</td>\n",
       "      <td>0</td>\n",
       "      <td>0</td>\n",
       "      <td>0</td>\n",
       "      <td>0</td>\n",
       "      <td>0</td>\n",
       "      <td>0</td>\n",
       "      <td>0</td>\n",
       "      <td>0</td>\n",
       "    </tr>\n",
       "    <tr>\n",
       "      <th>2</th>\n",
       "      <td>0</td>\n",
       "      <td>0</td>\n",
       "      <td>0</td>\n",
       "      <td>0</td>\n",
       "      <td>0</td>\n",
       "      <td>0</td>\n",
       "      <td>0</td>\n",
       "      <td>0</td>\n",
       "      <td>0</td>\n",
       "      <td>0</td>\n",
       "      <td>...</td>\n",
       "      <td>0</td>\n",
       "      <td>0</td>\n",
       "      <td>0</td>\n",
       "      <td>0</td>\n",
       "      <td>0</td>\n",
       "      <td>0</td>\n",
       "      <td>0</td>\n",
       "      <td>0</td>\n",
       "      <td>0</td>\n",
       "      <td>0</td>\n",
       "    </tr>\n",
       "    <tr>\n",
       "      <th>3</th>\n",
       "      <td>0</td>\n",
       "      <td>0</td>\n",
       "      <td>0</td>\n",
       "      <td>0</td>\n",
       "      <td>0</td>\n",
       "      <td>0</td>\n",
       "      <td>0</td>\n",
       "      <td>0</td>\n",
       "      <td>0</td>\n",
       "      <td>0</td>\n",
       "      <td>...</td>\n",
       "      <td>0</td>\n",
       "      <td>0</td>\n",
       "      <td>0</td>\n",
       "      <td>0</td>\n",
       "      <td>0</td>\n",
       "      <td>0</td>\n",
       "      <td>0</td>\n",
       "      <td>0</td>\n",
       "      <td>0</td>\n",
       "      <td>0</td>\n",
       "    </tr>\n",
       "    <tr>\n",
       "      <th>4</th>\n",
       "      <td>0</td>\n",
       "      <td>0</td>\n",
       "      <td>0</td>\n",
       "      <td>0</td>\n",
       "      <td>0</td>\n",
       "      <td>0</td>\n",
       "      <td>0</td>\n",
       "      <td>0</td>\n",
       "      <td>0</td>\n",
       "      <td>0</td>\n",
       "      <td>...</td>\n",
       "      <td>0</td>\n",
       "      <td>0</td>\n",
       "      <td>0</td>\n",
       "      <td>0</td>\n",
       "      <td>0</td>\n",
       "      <td>0</td>\n",
       "      <td>0</td>\n",
       "      <td>0</td>\n",
       "      <td>0</td>\n",
       "      <td>0</td>\n",
       "    </tr>\n",
       "  </tbody>\n",
       "</table>\n",
       "<p>5 rows × 7572 columns</p>\n",
       "</div>"
      ],
      "text/plain": [
       "   8400068    8400069    8400070    8400071    8400072    8400085    \\\n",
       "0          0          0          0          0          0          0   \n",
       "1          0          0          0          0          0          0   \n",
       "2          0          0          0          0          0          0   \n",
       "3          0          0          0          0          0          0   \n",
       "4          0          0          0          0          0          0   \n",
       "\n",
       "   8400090    8400094    8400178    8400187    ...  100025442  100025466  \\\n",
       "0          0          0          0          0  ...          0          0   \n",
       "1          0          0          0          0  ...          0          0   \n",
       "2          0          0          0          0  ...          0          0   \n",
       "3          0          0          0          0  ...          0          0   \n",
       "4          0          0          0          0  ...          0          0   \n",
       "\n",
       "   100025474  100025669  100026368  100026512  100027313  100027375  \\\n",
       "0          0          0          0          0          0          0   \n",
       "1          0          0          0          0          0          0   \n",
       "2          0          0          0          0          0          0   \n",
       "3          0          0          0          0          0          0   \n",
       "4          0          0          0          0          0          0   \n",
       "\n",
       "   100027627  100028280  \n",
       "0          0          0  \n",
       "1          0          0  \n",
       "2          0          0  \n",
       "3          0          0  \n",
       "4          0          0  \n",
       "\n",
       "[5 rows x 7572 columns]"
      ]
     },
     "execution_count": 13,
     "metadata": {},
     "output_type": "execute_result"
    }
   ],
   "source": [
    "apparelDF.head()"
   ]
  },
  {
   "cell_type": "markdown",
   "metadata": {},
   "source": [
    "### Algorithm Application and Association Rules"
   ]
  },
  {
   "cell_type": "markdown",
   "metadata": {},
   "source": [
    "To dial in our parameters for the algorithm we can decide on the minimum threshold by graphing out the supports. The supports show the percentage of sessions that that product id or combination of product ids occur in. This is a quick calculation for the visualization and we will apply the full algorithm afterwards."
   ]
  },
  {
   "cell_type": "code",
   "execution_count": 14,
   "metadata": {},
   "outputs": [
    {
     "data": {
      "text/plain": [
       "8400068      0.000058\n",
       "8400069      0.000058\n",
       "8400070      0.000116\n",
       "8400071      0.000058\n",
       "8400072      0.000174\n",
       "               ...   \n",
       "100026512    0.000029\n",
       "100027313    0.000029\n",
       "100027375    0.000029\n",
       "100027627    0.000029\n",
       "100028280    0.000029\n",
       "Length: 7572, dtype: float64"
      ]
     },
     "execution_count": 14,
     "metadata": {},
     "output_type": "execute_result"
    }
   ],
   "source": [
    "apparelSupport = apparelDF.sum(axis=0)/apparelDF.shape[0]\n",
    "apparelSupport"
   ]
  },
  {
   "cell_type": "code",
   "execution_count": 16,
   "metadata": {},
   "outputs": [],
   "source": [
    "from mlxtend.frequent_patterns import fpgrowth\n",
    "from mlxtend.frequent_patterns import association_rules"
   ]
  },
  {
   "cell_type": "markdown",
   "metadata": {},
   "source": [
    "The FP-Growth algorithm is used to extract frequent item sets that can be applied to association rule learning. It formalizes the rough calculation we did earlier to find the support of each itemset."
   ]
  },
  {
   "cell_type": "code",
   "execution_count": 17,
   "metadata": {},
   "outputs": [],
   "source": [
    "apparelDF.columns = [str(i) for i in apparelDF.columns]"
   ]
  },
  {
   "cell_type": "code",
   "execution_count": 27,
   "metadata": {},
   "outputs": [
    {
     "data": {
      "text/html": [
       "<div>\n",
       "<style scoped>\n",
       "    .dataframe tbody tr th:only-of-type {\n",
       "        vertical-align: middle;\n",
       "    }\n",
       "\n",
       "    .dataframe tbody tr th {\n",
       "        vertical-align: top;\n",
       "    }\n",
       "\n",
       "    .dataframe thead th {\n",
       "        text-align: right;\n",
       "    }\n",
       "</style>\n",
       "<table border=\"1\" class=\"dataframe\">\n",
       "  <thead>\n",
       "    <tr style=\"text-align: right;\">\n",
       "      <th></th>\n",
       "      <th>support</th>\n",
       "      <th>itemsets</th>\n",
       "    </tr>\n",
       "  </thead>\n",
       "  <tbody>\n",
       "    <tr>\n",
       "      <th>0</th>\n",
       "      <td>0.002002</td>\n",
       "      <td>(28717160)</td>\n",
       "    </tr>\n",
       "    <tr>\n",
       "      <th>1</th>\n",
       "      <td>0.000174</td>\n",
       "      <td>(35200189)</td>\n",
       "    </tr>\n",
       "    <tr>\n",
       "      <th>2</th>\n",
       "      <td>0.000290</td>\n",
       "      <td>(28718936)</td>\n",
       "    </tr>\n",
       "    <tr>\n",
       "      <th>3</th>\n",
       "      <td>0.000783</td>\n",
       "      <td>(48200446)</td>\n",
       "    </tr>\n",
       "    <tr>\n",
       "      <th>4</th>\n",
       "      <td>0.000464</td>\n",
       "      <td>(48200449)</td>\n",
       "    </tr>\n",
       "    <tr>\n",
       "      <th>...</th>\n",
       "      <td>...</td>\n",
       "      <td>...</td>\n",
       "    </tr>\n",
       "    <tr>\n",
       "      <th>9665</th>\n",
       "      <td>0.000029</td>\n",
       "      <td>(28718978, 28717896)</td>\n",
       "    </tr>\n",
       "    <tr>\n",
       "      <th>9666</th>\n",
       "      <td>0.000029</td>\n",
       "      <td>(28717813, 28719636)</td>\n",
       "    </tr>\n",
       "    <tr>\n",
       "      <th>9667</th>\n",
       "      <td>0.000029</td>\n",
       "      <td>(28720542, 44300028)</td>\n",
       "    </tr>\n",
       "    <tr>\n",
       "      <th>9668</th>\n",
       "      <td>0.000029</td>\n",
       "      <td>(28720778, 28711255)</td>\n",
       "    </tr>\n",
       "    <tr>\n",
       "      <th>9669</th>\n",
       "      <td>0.000029</td>\n",
       "      <td>(45600251, 28706237)</td>\n",
       "    </tr>\n",
       "  </tbody>\n",
       "</table>\n",
       "<p>9670 rows × 2 columns</p>\n",
       "</div>"
      ],
      "text/plain": [
       "       support              itemsets\n",
       "0     0.002002            (28717160)\n",
       "1     0.000174            (35200189)\n",
       "2     0.000290            (28718936)\n",
       "3     0.000783            (48200446)\n",
       "4     0.000464            (48200449)\n",
       "...        ...                   ...\n",
       "9665  0.000029  (28718978, 28717896)\n",
       "9666  0.000029  (28717813, 28719636)\n",
       "9667  0.000029  (28720542, 44300028)\n",
       "9668  0.000029  (28720778, 28711255)\n",
       "9669  0.000029  (45600251, 28706237)\n",
       "\n",
       "[9670 rows x 2 columns]"
      ]
     },
     "execution_count": 27,
     "metadata": {},
     "output_type": "execute_result"
    }
   ],
   "source": [
    "freqApparel = fpgrowth(apparelDF, min_support= 0.00001\n",
    "                       , use_colnames=True)\n",
    "freqApparel"
   ]
  },
  {
   "cell_type": "markdown",
   "metadata": {},
   "source": [
    "We can now apply association rules to calculate different metrics for evaluating the item sets. We are using lift as our main metric. \n",
    "\n",
    "Lift is used to measure how much more the antecedent and consequent occur together than we would expect if they were statistically independent. \n",
    "\n",
    "(http://rasbt.github.io/mlxtend/user_guide/frequent_patterns/association_rules/)"
   ]
  },
  {
   "cell_type": "code",
   "execution_count": 28,
   "metadata": {},
   "outputs": [
    {
     "data": {
      "text/html": [
       "<div>\n",
       "<style scoped>\n",
       "    .dataframe tbody tr th:only-of-type {\n",
       "        vertical-align: middle;\n",
       "    }\n",
       "\n",
       "    .dataframe tbody tr th {\n",
       "        vertical-align: top;\n",
       "    }\n",
       "\n",
       "    .dataframe thead th {\n",
       "        text-align: right;\n",
       "    }\n",
       "</style>\n",
       "<table border=\"1\" class=\"dataframe\">\n",
       "  <thead>\n",
       "    <tr style=\"text-align: right;\">\n",
       "      <th></th>\n",
       "      <th>antecedents</th>\n",
       "      <th>consequents</th>\n",
       "      <th>antecedent support</th>\n",
       "      <th>consequent support</th>\n",
       "      <th>support</th>\n",
       "      <th>confidence</th>\n",
       "      <th>lift</th>\n",
       "      <th>leverage</th>\n",
       "      <th>conviction</th>\n",
       "    </tr>\n",
       "  </thead>\n",
       "  <tbody>\n",
       "    <tr>\n",
       "      <th>2661</th>\n",
       "      <td>(28722208, 28721230)</td>\n",
       "      <td>(28718690)</td>\n",
       "      <td>0.000029</td>\n",
       "      <td>0.000029</td>\n",
       "      <td>0.000029</td>\n",
       "      <td>1.0</td>\n",
       "      <td>34461.0</td>\n",
       "      <td>0.000029</td>\n",
       "      <td>inf</td>\n",
       "    </tr>\n",
       "    <tr>\n",
       "      <th>1433</th>\n",
       "      <td>(28719162, 28719168, 28720827)</td>\n",
       "      <td>(28719390, 28719094)</td>\n",
       "      <td>0.000029</td>\n",
       "      <td>0.000029</td>\n",
       "      <td>0.000029</td>\n",
       "      <td>1.0</td>\n",
       "      <td>34461.0</td>\n",
       "      <td>0.000029</td>\n",
       "      <td>inf</td>\n",
       "    </tr>\n",
       "    <tr>\n",
       "      <th>1438</th>\n",
       "      <td>(28719390, 28719162, 28720827)</td>\n",
       "      <td>(28719094, 28719168)</td>\n",
       "      <td>0.000029</td>\n",
       "      <td>0.000029</td>\n",
       "      <td>0.000029</td>\n",
       "      <td>1.0</td>\n",
       "      <td>34461.0</td>\n",
       "      <td>0.000029</td>\n",
       "      <td>inf</td>\n",
       "    </tr>\n",
       "    <tr>\n",
       "      <th>1437</th>\n",
       "      <td>(28719094, 28719390, 28719162)</td>\n",
       "      <td>(28719168, 28720827)</td>\n",
       "      <td>0.000029</td>\n",
       "      <td>0.000029</td>\n",
       "      <td>0.000029</td>\n",
       "      <td>1.0</td>\n",
       "      <td>34461.0</td>\n",
       "      <td>0.000029</td>\n",
       "      <td>inf</td>\n",
       "    </tr>\n",
       "    <tr>\n",
       "      <th>1436</th>\n",
       "      <td>(28719094, 28719168, 28720827)</td>\n",
       "      <td>(28719390, 28719162)</td>\n",
       "      <td>0.000029</td>\n",
       "      <td>0.000029</td>\n",
       "      <td>0.000029</td>\n",
       "      <td>1.0</td>\n",
       "      <td>34461.0</td>\n",
       "      <td>0.000029</td>\n",
       "      <td>inf</td>\n",
       "    </tr>\n",
       "  </tbody>\n",
       "</table>\n",
       "</div>"
      ],
      "text/plain": [
       "                         antecedents           consequents  \\\n",
       "2661            (28722208, 28721230)            (28718690)   \n",
       "1433  (28719162, 28719168, 28720827)  (28719390, 28719094)   \n",
       "1438  (28719390, 28719162, 28720827)  (28719094, 28719168)   \n",
       "1437  (28719094, 28719390, 28719162)  (28719168, 28720827)   \n",
       "1436  (28719094, 28719168, 28720827)  (28719390, 28719162)   \n",
       "\n",
       "      antecedent support  consequent support   support  confidence     lift  \\\n",
       "2661            0.000029            0.000029  0.000029         1.0  34461.0   \n",
       "1433            0.000029            0.000029  0.000029         1.0  34461.0   \n",
       "1438            0.000029            0.000029  0.000029         1.0  34461.0   \n",
       "1437            0.000029            0.000029  0.000029         1.0  34461.0   \n",
       "1436            0.000029            0.000029  0.000029         1.0  34461.0   \n",
       "\n",
       "      leverage  conviction  \n",
       "2661  0.000029         inf  \n",
       "1433  0.000029         inf  \n",
       "1438  0.000029         inf  \n",
       "1437  0.000029         inf  \n",
       "1436  0.000029         inf  "
      ]
     },
     "execution_count": 28,
     "metadata": {},
     "output_type": "execute_result"
    }
   ],
   "source": [
    "apparelRules = association_rules(freqApparel, metric=\"lift\", min_threshold=10)\n",
    "apparelRules.sort_values(by=\"lift\", ascending=False).head()"
   ]
  },
  {
   "cell_type": "code",
   "execution_count": 20,
   "metadata": {},
   "outputs": [],
   "source": [
    "apparelRules['antecedents'] = apparelRules['antecedents'].apply(lambda x:list(x)).copy()\n",
    "apparelRules['consequents'] = apparelRules['consequents'].apply(lambda x:list(x)).copy()"
   ]
  },
  {
   "cell_type": "code",
   "execution_count": 21,
   "metadata": {},
   "outputs": [],
   "source": [
    "import numpy as np"
   ]
  },
  {
   "cell_type": "markdown",
   "metadata": {},
   "source": [
    "The below function will grab an item from the basket and then give suggestions on other items they might also like based on the itemset analysis. "
   ]
  },
  {
   "cell_type": "code",
   "execution_count": 22,
   "metadata": {},
   "outputs": [
    {
     "name": "stdout",
     "output_type": "stream",
     "text": [
      "Based on: 28716977\n",
      "You would also enjoy: ['28720953'] And ['28720550']\n"
     ]
    }
   ],
   "source": [
    "# Input basket\n",
    "mybasket = ['28722071', '28716977', '28714273']\n",
    "\n",
    "#metric\n",
    "metric = 'lift'\n",
    "\n",
    "#Complete this function\n",
    "def product_recs(basket, apparelRules, metric):\n",
    "    \n",
    "    # Randomly select an item from the basket\n",
    "    random_item = np.random.choice(basket, 1)[0]\n",
    "    print(f\"Based on: {random_item}\")\n",
    "    \n",
    "    # Find rules where the item is in the antecedent\n",
    "    rule_filter = apparelRules['antecedents'].apply(lambda x:x[0]) == random_item\n",
    "    \n",
    "    # Filter the dataframe using rule_filter and sort by the selected metric\n",
    "    filtered_df = apparelRules[rule_filter].sort_values(by=metric)\n",
    "    \n",
    "    # Randomly return one of the top 20 items from the filtered dataframe\n",
    "    reco1 = filtered_df.head(20).sample(1, replace = True)['consequents']\n",
    "    reco2 = filtered_df.head(20).sample(1, replace = True)['consequents']\n",
    "    \n",
    "    return reco1, reco2\n",
    "\n",
    "result = product_recs(mybasket, apparelRules, metric )\n",
    "cleanResult = np.array(result)\n",
    "print(f\"You would also enjoy: {cleanResult[0][0]} And {cleanResult[1][0]}\")"
   ]
  }
 ],
 "metadata": {
  "kernelspec": {
   "display_name": "mlxtend",
   "language": "python",
   "name": "mlxtend"
  },
  "language_info": {
   "codemirror_mode": {
    "name": "ipython",
    "version": 3
   },
   "file_extension": ".py",
   "mimetype": "text/x-python",
   "name": "python",
   "nbconvert_exporter": "python",
   "pygments_lexer": "ipython3",
   "version": "3.8.0"
  }
 },
 "nbformat": 4,
 "nbformat_minor": 4
}
